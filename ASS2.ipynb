{
 "cells": [
  {
   "cell_type": "code",
   "execution_count": 11,
   "id": "d1e13fbc-ad49-4854-aff6-ca1c4226fae7",
   "metadata": {
    "tags": []
   },
   "outputs": [
    {
     "name": "stdout",
     "output_type": "stream",
     "text": [
      "\n",
      "Determinants: [0.0, 0.0, 0.0, 1.0, -1.0, 0.0, -1.0, 0.0, 1.0, 1.0, -1.0, 0.0, 0.0, 0.0, 0.0, 0.0, 0.0, 0.0, 0.0, 1.0, -1.0, -1.0, 0.0, -1.0, -1.0, 1.0, -1.0, 1.0, 0.0, 1.0, 1.0, 0.0, 1.0, -1.0, 0.0, 0.0, -1.0, 1.0, 1.0, 0.0, 0.0, 0.0, 1.0, 0.0, 1.0, -1.0, -1.0, 1.0, -1.0, 0.0, 1.0, -1.0, 0.0, -1.0, 0.0, 0.0, -1.0, 1.0, 0.0, 1.0, 1.0, -1.0, 0.0, -1.0, 0.0, -1.0, 1.0, 0.0, 1.0, -1.0, 0.0, -1.0, 1.0, -1.0, 1.0, 1.0, -1.0, 1.0, -1.0, 0.0, 0.0, 0.0, 0.0, -1.0, -1.0, 0.0, 1.0, 1.0, 0.0, 0.0, 1.0, 0.0, -1.0, 0.0, -1.0, -1.0, 1.0, 0.0, -1.0, -1.0, 1.0, 1.0, 0.0, 0.0, 1.0, -1.0, 1.0, 0.0, 0.0, -1.0, 1.0, 1.0, 0.0, 1.0, 1.0, -1.0, -1.0, 0.0, -1.0, 0.0, 0.0, 0.0, 0.0, 0.0, 0.0, 0.0]\n"
     ]
    }
   ],
   "source": [
    "import numpy as np\n",
    "\n",
    "#Create function which generates a binary string with paramaters\n",
    "def binary(n, k, prefix=\"\", outcome=[]):\n",
    "    if n == 0:\n",
    "        if k == 0:\n",
    "            outcome.append(prefix)\n",
    "        return\n",
    "    if k > 0:\n",
    "        binary(n - 1, k - 1, prefix + \"1\", outcome)\n",
    "    binary(n - 1, k, prefix + \"0\", outcome)\n",
    "    return outcome\n",
    "#Create our boolean points that each correspond to a final matrix\n",
    "def boole_points(length, n_zeroes, n_ones):\n",
    "    return binary(length, n_ones, outcome=[])\n",
    "\n",
    "boolean_points = generate_boolean_points(9, 4, 5)\n",
    "\n",
    "#Convert into matrix and calculate determinants\n",
    "def boole_points(boolean_points):\n",
    "    matrices = []\n",
    "    for point in boolean_points:\n",
    "        matrix = np.array([[int(point[i]) for i in range(3)],\n",
    "                           [int(point[i]) for i in range(3, 6)],\n",
    "                           [int(point[i]) for i in range(6, 9)]])\n",
    "        matrices.append(matrix)\n",
    "    return matrices\n",
    "\n",
    "def calculate_determinants(matrices):\n",
    "    determinants = []\n",
    "    for matrix in matrices:\n",
    "        determinant = np.linalg.det(matrix)\n",
    "        determinants.append(determinant)\n",
    "    return determinants\n",
    "\n",
    "determinants = calculate_determinants(matrices)\n",
    "print(\"\\nDeterminants:\", determinants)\n"
   ]
  },
  {
   "cell_type": "code",
   "execution_count": null,
   "id": "ef14088e-e088-4595-88f0-2e175c59625d",
   "metadata": {},
   "outputs": [],
   "source": []
  },
  {
   "cell_type": "code",
   "execution_count": null,
   "id": "8da6ea1a-1733-43c1-8262-f7fe22423237",
   "metadata": {},
   "outputs": [],
   "source": []
  }
 ],
 "metadata": {
  "kernelspec": {
   "display_name": "Python 3 (ipykernel)",
   "language": "python",
   "name": "python3"
  },
  "language_info": {
   "codemirror_mode": {
    "name": "ipython",
    "version": 3
   },
   "file_extension": ".py",
   "mimetype": "text/x-python",
   "name": "python",
   "nbconvert_exporter": "python",
   "pygments_lexer": "ipython3",
   "version": "3.11.5"
  }
 },
 "nbformat": 4,
 "nbformat_minor": 5
}
